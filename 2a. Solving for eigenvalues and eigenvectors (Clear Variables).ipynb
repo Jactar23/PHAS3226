{
 "cells": [
  {
   "cell_type": "markdown",
   "metadata": {},
   "source": [
    "## Solving for eigenvalues and eigenvectors\n",
    "\n",
    "We saw in the previous notebook how to set up a matrix by integrating between pairs of basis functions.  In this notebook we will solve for the eigenvalues and eigenvectors of the Hamiltonian for a square well, exploring what happens when we use a finite basis set, and introduce changes to the potential in the square well."
   ]
  },
  {
   "cell_type": "markdown",
   "metadata": {},
   "source": [
    "### Eigenbasis, adding potential\n",
    "\n",
    "We will start by using the eigenbasis (since it's simple) and will add small changes to the potential.  This will give us some insight into the effect of perturbations (and will feed directly into our studies of perturbation theory).  So we'll first set up the bits and pieces of code we'll need, some taken from the previous notebook."
   ]
  },
  {
   "cell_type": "code",
   "execution_count": 1,
   "metadata": {
    "collapsed": false
   },
   "outputs": [],
   "source": [
    "# Import libraries and set up in-line plotting.\n",
    "%matplotlib inline\n",
    "import matplotlib.pyplot as pl\n",
    "import numpy as np\n",
    "# This is a new library - linear algebra includes solving for eigenvalues & eigenvectors of matrices\n",
    "import numpy.linalg as la\n",
    "\n",
    "# Define the eigenbasis - normalisation needed elsewhere\n",
    "def square_well_eigenfunctions(n,width,norm,x):\n",
    "    \"\"\"The eigenbasis for a square well, running from 0 to a (width), sin(n pi x/a). \n",
    "    N.B. requires a normalisation factor, norm.\"\"\"\n",
    "    wavevector = np.pi*n/width\n",
    "    return norm*np.sin(wavevector*x)\n",
    "\n",
    "# We will also define the second derivative for kinetic energy (KE)\n",
    "def second_derivative_square_well_eigenfunctions(n,width,norm,x):\n",
    "    \"\"\"The second derivative of the eigenbasis for a square well, running from 0 to a, sin(n pi x/a)\"\"\"\n",
    "    wavevector = np.pi*n/width\n",
    "    return -wavevector*wavevector*norm*np.sin(wavevector*x)\n",
    "\n",
    "# Define the x-axis\n",
    "square_well_width = 1.0\n",
    "number_of_x_points = 101\n",
    "x = np.linspace(0.0,square_well_width,number_of_x_points)\n",
    "x_spacing = square_well_width/(number_of_x_points - 1)\n",
    "\n",
    "# Integrate two functions over the width of the well\n",
    "# NB this is a VERY simple integration routine: there are much better ways\n",
    "def integrate_functions(function1,function2,dx):\n",
    "    \"\"\"Integrate two functions over defined x range with spacing dx\"\"\"\n",
    "    # We use the NumPy dot function here instead of iterating over array elements\n",
    "    integral = dx*np.dot(function1,function2)\n",
    "    return integral\n",
    "\n",
    "# These arrays will each hold an array of functions\n",
    "basis_functions = []\n",
    "second_derivative_basis_functions = []\n",
    "\n",
    "number_of_basis_functions = 10\n",
    "# Loop over first num_basis basis states, normalise and create an array\n",
    "# NB the basis_array will start from 0\n",
    "for n in range(1,number_of_basis_functions+1):\n",
    "    # Calculate A = <phi_n|phi_n>\n",
    "    integral = integrate_functions(square_well_eigenfunctions(n,square_well_width,1.0,x),square_well_eigenfunctions(n,square_well_width,1.0,x),x_spacing)\n",
    "    # Use 1/sqrt{A} as normalisation constant\n",
    "    normalisation = 1.0/np.sqrt(integral)\n",
    "    basis_functions.append(square_well_eigenfunctions(n,square_well_width,normalisation,x))\n",
    "    second_derivative_basis_functions.append(second_derivative_square_well_eigenfunctions(n,square_well_width,normalisation,x))\n"
   ]
  },
  {
   "cell_type": "markdown",
   "metadata": {},
   "source": [
    "We have now set up all the mechanics that we need to create matrices for different Hamiltonians, except for one thing: the potential.  We have an implicit potential already in the infinite square well (we set $V=\\infty$ when $x=0$ or $x=a$).  If we create a potential function, then we can change this and create different Hamiltonian matrices.  So we'll do this next."
   ]
  },
  {
   "cell_type": "code",
   "execution_count": 2,
   "metadata": {
    "collapsed": false
   },
   "outputs": [
    {
     "data": {
      "image/png": "[encoded data removed]",
      "text/plain": [
       "<matplotlib.figure.Figure at 0x10852be50>"
      ]
     },
     "metadata": {},
     "output_type": "display_data"
    }
   ],
   "source": [
    "# Define constants - here I use atomic units\n",
    "hbar = 1.0\n",
    "hbar_squared = hbar*hbar\n",
    "m_e = 1.0 # Mass of the electron\n",
    "two_m_e = 2.0*m_e\n",
    "# These are not needed but are easier\n",
    "pi_squared = np.pi*np.pi\n",
    "square_well_width_squared = square_well_width*square_well_width\n",
    "\n",
    "# Define the potential in the square well\n",
    "def square_well_perturbing_potential(x,perturbing_potential,potential_magnitude):\n",
    "    \"\"\"Potential for a particle in a square well, expecting two arrays: x, V(x), and potential magnitude\"\"\"\n",
    "    # Zero the array\n",
    "    perturbing_potential[:] = 0.0\n",
    "    # Let's define a small bump in the well\n",
    "    bump_position = x.size/4\n",
    "    perturbing_potential[bump_position-1] = potential_magnitude\n",
    "    perturbing_potential[bump_position] = potential_magnitude\n",
    "    perturbing_potential[bump_position+1] = potential_magnitude\n",
    "    # Plot to ensure that we know what we're getting\n",
    "    pl.plot(x,perturbing_potential)\n",
    "    pl.ylim((0,2.0))\n",
    "    \n",
    "# Declare space for this potential (Vbump) and call the routine\n",
    "bump_potential = np.linspace(0.0,square_well_width,number_of_x_points)\n",
    "square_well_perturbing_potential(x,bump_potential,0.5)"
   ]
  },
  {
   "cell_type": "markdown",
   "metadata": {},
   "source": [
    "### Solving for the eigenvalues\n",
    "\n",
    "Now that we have the potential, we need to build the matrix (remember that we have set $\\hbar = m = 1$):\n",
    "\n",
    "$H_{mn} = \\langle \\phi_m \\vert -\\frac{1}{2}\\nabla^2 + \\hat{V}\\vert\\phi_n\\rangle$\n",
    "\n",
    "By diagonalisation, we will find the eigenvalues.\n",
    "\n",
    "It's worth noting that we act with $\\hat{V}$ by multiplication in position representation:\n",
    "\n",
    "$$\\langle x \\vert \\hat{V} \\vert \\phi_m\\rangle = V(x) \\phi_m(x)$$\n",
    "\n",
    "Then we make matrix elements by integration in position representation; as we've defined a grid on which to represent the system, we'll just sum over the values on the grid (though there are much more accurate ways to do numerical integration).\n",
    "\n",
    "$$H_{ij} = \\langle \\phi_i \\vert \\hat{H} \\vert \\phi_j \\rangle = \\int dx \\phi_i^\\star(x) \\hat{H} \\phi_j(x)$$\n",
    "\n",
    "We will print out the matrix of _just_ the potential first: $\\langle \\phi_m \\vert \\hat{V} \\vert \\phi_n\\rangle$.  This will be useful when thinking about perturbation theory (the change in eigenvalues should be the same as the diagonal elements of the potential matrix, to first order in the potential)."
   ]
  },
  {
   "cell_type": "code",
   "execution_count": 3,
   "metadata": {
    "collapsed": false
   },
   "outputs": [
    {
     "name": "stdout",
     "output_type": "stream",
     "text": [
      "Potential matrix elements:\n",
      "   0.015    0.021    0.015   -0.000   -0.015   -0.021   -0.015    0.000    0.015    0.021\n",
      "   0.021    0.030    0.021    0.000   -0.021   -0.030   -0.021   -0.000    0.021    0.029\n",
      "   0.015    0.021    0.015    0.000   -0.015   -0.021   -0.015   -0.000    0.014    0.020\n",
      "  -0.000    0.000    0.000    0.000    0.000   -0.000   -0.000   -0.001   -0.000    0.000\n",
      "  -0.015   -0.021   -0.015    0.000    0.015    0.021    0.014   -0.001   -0.015   -0.020\n",
      "  -0.021   -0.030   -0.021   -0.000    0.021    0.029    0.021    0.000   -0.020   -0.029\n",
      "  -0.015   -0.021   -0.015   -0.000    0.014    0.021    0.015    0.001   -0.014   -0.020\n",
      "   0.000   -0.000   -0.000   -0.001   -0.001    0.000    0.001    0.001    0.001   -0.000\n",
      "   0.015    0.021    0.014   -0.000   -0.015   -0.020   -0.014    0.001    0.015    0.020\n",
      "   0.021    0.029    0.020    0.000   -0.020   -0.029   -0.020   -0.000    0.020    0.028\n",
      "\n",
      "Full Hamiltonian\n",
      "   4.950    0.021    0.015   -0.000   -0.015   -0.021   -0.015    0.000    0.015    0.021\n",
      "   0.021   19.769    0.021   -0.000   -0.021   -0.030   -0.021   -0.000    0.021    0.029\n",
      "   0.015    0.021   44.428    0.000   -0.015   -0.021   -0.015   -0.000    0.014    0.020\n",
      "  -0.000   -0.000    0.000   78.957    0.000   -0.000   -0.000   -0.001   -0.000   -0.000\n",
      "  -0.015   -0.021   -0.015    0.000  123.385    0.021    0.014   -0.001   -0.015   -0.020\n",
      "  -0.021   -0.030   -0.021   -0.000    0.021  177.682    0.021   -0.000   -0.020   -0.029\n",
      "  -0.015   -0.021   -0.015   -0.000    0.014    0.021  241.820    0.001   -0.014   -0.020\n",
      "   0.000   -0.000   -0.000   -0.001   -0.001   -0.000    0.001  315.829    0.001    0.000\n",
      "   0.015    0.021    0.014   -0.000   -0.015   -0.020   -0.014    0.001  399.734    0.020\n",
      "   0.021    0.029    0.020   -0.000   -0.020   -0.029   -0.020    0.000    0.020  493.508\n"
     ]
    }
   ],
   "source": [
    "# Declare space for the matrix elements - simplest with the identity function\n",
    "H_matrix = np.eye(number_of_basis_functions)\n",
    "\n",
    "# Define a function to act on a basis function with the potential\n",
    "def add_potential_acting_on_state(H_on_phi,V,phi):\n",
    "    \"\"\"Add V(x)phi(x) onto an input array, H_on_phi\"\"\"\n",
    "    for i in range(V.size):\n",
    "        H_on_phi[i] = H_on_phi[i] + V[i] * phi[i]\n",
    "        \n",
    "print \"Potential matrix elements:\"\n",
    "# Loop over basis functions phi_n (the bra in the matrix element)\n",
    "# Calculate and output matrix elements of the potential\n",
    "\n",
    "for n in range(number_of_basis_functions):\n",
    "    # Loop over basis functions phi_m (the ket in the matrix element)\n",
    "    for m in range(number_of_basis_functions):\n",
    "        # Act with H on phi_m and store in H_phi_m\n",
    "        H_on_phi_m = np.zeros(number_of_x_points)\n",
    "        add_potential_acting_on_state(H_on_phi_m, bump_potential, basis_functions[m])\n",
    "        # Create matrix element by integrating\n",
    "        H_mn = integrate_functions(basis_functions[n],H_on_phi_m,x_spacing)\n",
    "        # The comma at the end prints without a new line; the %8.3f formats the number\n",
    "        print \"%8.3f\" % H_mn,\n",
    "    # This print puts in a new line when we have finished looping over m\n",
    "    print\n",
    "\n",
    "print\n",
    "print \"Full Hamiltonian\"\n",
    "# Loop over basis functions phi_n (the bra in the matrix element)\n",
    "# Calculate and store the matrix elements for the full Hamiltonian\n",
    "for n in range(number_of_basis_functions):\n",
    "    # Loop over basis functions phi_m (the ket in the matrix element)\n",
    "    for m in range(number_of_basis_functions):\n",
    "        # Act with H on phi_m and store in H_phi_m\n",
    "        # First the kinetic energy\n",
    "        H_on_phi_m = -(hbar_squared / two_m_e) * second_derivative_basis_functions[m] \n",
    "        # Now the potential\n",
    "        add_potential_acting_on_state(H_on_phi_m, bump_potential, basis_functions[m])\n",
    "        # Create matrix element by integrating\n",
    "        H_mn = integrate_functions(basis_functions[n], H_on_phi_m, x_spacing)\n",
    "        H_matrix[m,n] = H_mn\n",
    "        # The comma at the end prints without a new line; the %8.3f formats the number\n",
    "        print \"%8.3f\" % H_mn,\n",
    "    # This print puts in a new line when we have finished looping over m\n",
    "    print"
   ]
  },
  {
   "cell_type": "markdown",
   "metadata": {},
   "source": [
    "Notice that two things have changed compared to the perfect square well: first, the diagonal elements are _slightly_ larger; second, there are now off-diagonal elements.  Does it surprise you that these alternate (i.e. only in odd row and columns) ? Think about the symmetries of the system, particularly of the wavefunctions.\n",
    "\n",
    "What effect will this have on the eigenvalues and eigenvectors ? We'll diagonalise, print out the eigenvalues and plot the first few eigenvectors (as well as looking at their coefficients to get a rough idea of how much they've changed)."
   ]
  },
  {
   "cell_type": "code",
   "execution_count": 4,
   "metadata": {
    "collapsed": false
   },
   "outputs": [
    {
     "name": "stdout",
     "output_type": "stream",
     "text": [
      "[   4.9498   19.7691   44.4282   78.9571  123.3851  177.6822  241.8203\n",
      "  315.8286  399.734   493.5083]\n",
      "[  1.0000e+00   1.4275e-03   3.7820e-04  -7.5022e-07   1.2595e-04\n",
      "  -1.2134e-04   6.2036e-05   3.5439e-07   3.7203e-05   4.2008e-05]\n",
      "[ -1.4279e-03   1.0000e+00   8.5641e-04   3.3707e-09   2.0269e-04\n",
      "  -1.8751e-04   9.3925e-05  -1.4036e-09   5.4284e-05   6.1205e-05]\n",
      "[ -3.7702e-04  -8.5703e-04   1.0000e+00   4.8328e-06   1.8593e-04\n",
      "  -1.5688e-04   7.5635e-05  -1.2205e-06   4.0245e-05   4.5583e-05]\n"
     ]
    }
   ],
   "source": [
    "# Solve using linalg module of numpy (which we've imported as la above)\n",
    "eigenvalues, eigenvectors = la.eigh(H_matrix)\n",
    "# This call above does the entire solution for the eigenvalues and eigenvectors !\n",
    "# Print results roughly, though apply precision of 4 to the printing\n",
    "np.set_printoptions(precision=4)\n",
    "print eigenvalues\n",
    "print eigenvectors[0]\n",
    "print eigenvectors[1]\n",
    "print eigenvectors[2]"
   ]
  },
  {
   "cell_type": "markdown",
   "metadata": {},
   "source": [
    "We can see that the eigenvalues look close to the perfect well values (we'll check them properly below).  The eigenvector coefficients show a single dominant value (corresponding to the unperturbed eigenvector), with very small contributions from other eigenvectors.  Now print the eigenvalues and calculate the change."
   ]
  },
  {
   "cell_type": "code",
   "execution_count": 5,
   "metadata": {
    "collapsed": false
   },
   "outputs": [
    {
     "name": "stdout",
     "output_type": "stream",
     "text": [
      " Changed Original  Difference\n",
      "   4.950    4.935    0.015\n",
      "  19.769   19.739    0.030\n",
      "  44.428   44.413    0.015\n",
      "  78.957   78.957    0.000\n",
      " 123.385  123.370    0.015\n",
      " 177.682  177.653    0.029\n",
      " 241.820  241.805    0.015\n",
      " 315.829  315.827    0.001\n",
      " 399.734  399.719    0.015\n",
      " 493.508  493.480    0.028\n"
     ]
    }
   ],
   "source": [
    "# Now print out eigenvalues and the eigenvalues of the perfect square well, and the difference\n",
    "print \" Changed Original  Difference\"\n",
    "for i in range(number_of_basis_functions):\n",
    "    n = i+1\n",
    "    print \"%8.3f %8.3f %8.3f\" % (eigenvalues[i],n*n*np.pi*np.pi/2.0,eigenvalues[i] - n*n*np.pi*np.pi/2.0)"
   ]
  },
  {
   "cell_type": "markdown",
   "metadata": {},
   "source": [
    "Compare the differences in eigenvalues due to the small potential we've added to the diagonal terms of the potential matrix.  How close is the agreement ? You might like to change the magnitude of the potential (higher up - it's passed as an argument to the potential function) and see how this agreement changes.\n",
    "\n",
    "Now we'll plot the eigenvectors (after building them) and look at the change with respect to the eigenvectors of the original system.  Remember that any function in this space can be written as:\n",
    "\n",
    "$$\\vert\\psi\\rangle = \\sum_i c_i \\vert \\phi_i \\rangle$$\n",
    "\n",
    "We'll use this to build the eigenfunctions of the perturbed system.  In this case, $c_i$ are the coefficients in the eigenvector of the matrix, and $\\vert\\phi_i\\rangle$ are the basis functions."
   ]
  },
  {
   "cell_type": "code",
   "execution_count": 6,
   "metadata": {
    "collapsed": false
   },
   "outputs": [
    {
     "data": {
      "image/png": "[encoded data removed]",
      "text/plain": [
       "<matplotlib.figure.Figure at 0x108634050>"
      ]
     },
     "metadata": {},
     "output_type": "display_data"
    }
   ],
   "source": [
    "# Define a figure to take two plots\n",
    "fig = pl.figure(figsize=[12,3])\n",
    "# Add subplots: number in y, x, index number\n",
    "ax = fig.add_subplot(121,autoscale_on=False,xlim=(0,1),ylim=(-2,2))\n",
    "ax.set_title(\"Eigenvectors for changed system\")\n",
    "ax2 = fig.add_subplot(122,autoscale_on=False,xlim=(0,1),ylim=(-0.002,0.002))\n",
    "ax2.set_title(\"Difference to perfect eigenvectors\")\n",
    "for m in range(4): # Plot the first four states\n",
    "    psi = np.zeros(number_of_x_points)\n",
    "    for i in range(number_of_basis_functions):\n",
    "        psi = psi+eigenvectors[i,m]*basis_functions[i]\n",
    "    if eigenvectors[m,m] < 0:  # This is just to ensure that psi and the basis function have the same phase\n",
    "        psi = -psi\n",
    "    ax.plot(x,psi)\n",
    "    # Now subtract the unperturbed eigenvector to see the change from the perturbation\n",
    "    psi = psi - basis_functions[m]\n",
    "    ax2.plot(x,psi)\n"
   ]
  },
  {
   "cell_type": "markdown",
   "metadata": {},
   "source": [
    "Notice how the eigenvectors for this changed system are *very* close to the original system.  This is a perfect example of a good system to study with perturbation theory.  The changes in the eigenvectors can be related to matrix elements of the potential and the eigenvalues of the unperturbed system, but we won't do this just yet.\n",
    "\n",
    "In the next notebook, we will explore a more complex perturbation (a truncated quantum harmonic oscillator, or QHO) and the effects of varying the magnitude of the perturbation.  As well as improving your understanding of matrix mechanics, this should give a useful insight into the limitations of perturbation theory and finite basis sets."
   ]
  },
  {
   "cell_type": "code",
   "execution_count": null,
   "metadata": {
    "collapsed": true
   },
   "outputs": [],
   "source": []
  }
 ],
 "metadata": {
  "kernelspec": {
   "display_name": "Python 2",
   "language": "python",
   "name": "python2"
  },
  "language_info": {
   "codemirror_mode": {
    "name": "ipython",
    "version": 2
   },
   "file_extension": ".py",
   "mimetype": "text/x-python",
   "name": "python",
   "nbconvert_exporter": "python",
   "pygments_lexer": "ipython2",
   "version": "2.7.10"
  }
 },
 "nbformat": 4,
 "nbformat_minor": 0
}
