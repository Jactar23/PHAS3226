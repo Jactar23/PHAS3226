{
 "cells": [
  {
   "cell_type": "markdown",
   "metadata": {},
   "source": [
    "## The Variational Method\n",
    "\n",
    "The variational method is a simple approach to finding the energy of the ground state of a system.  We write a *trial* wavevector which depends on one or more parameters, and then vary the parameters to find the lowest energy.  We will show in lectures that this always gives an *upper bound* to the energy of the system; we define the energy for the system in the trial state as:\n",
    "\n",
    "$$\n",
    "E(\\lambda) = \\frac{\\langle \\psi(\\lambda) \\vert \\hat{H} \\vert \\psi(\\lambda) \\rangle}{\\langle \\psi(\\lambda)\\vert \\psi(\\lambda)\\rangle}\n",
    "$$\n",
    "\n",
    "where $\\lambda$ is the parameter.\n",
    "\n",
    "We will start with a simple example: finding the optimum value of the exponent, $\\alpha$, for the ground state of the quantum harmonic oscillator.  As we know the exact answer, we can check that the approach is correct."
   ]
  },
  {
   "cell_type": "code",
   "execution_count": 1,
   "metadata": {
    "collapsed": true
   },
   "outputs": [],
   "source": [
    "# Import libraries and set up in-line plotting.\n",
    "%matplotlib inline\n",
    "import matplotlib.pyplot as pl\n",
    "import numpy as np\n",
    "\n",
    "# Define the x-axis from -width to +width\n",
    "# This makes the QHO finite in width, which is an approximation\n",
    "# We will need to be careful not to make omega too small\n",
    "width = 10.0\n",
    "num_x_points = 1001\n",
    "x = np.linspace(-width,width,num_x_points)\n",
    "dx = 2.0*width/(num_x_points - 1)\n",
    "\n",
    "# Integrate two functions over the width of the well\n",
    "def integrate_functions(f1,f2,size_x,dx):\n",
    "    \"\"\"Integrate two functions over defined x range\"\"\"\n",
    "    sum = 0.0\n",
    "    for i in range(size_x):\n",
    "        sum = sum + f1[i]*f2[i]\n",
    "    sum = sum*dx\n",
    "    return sum\n",
    "\n",
    "# Define a function to act on a basis function with the potential\n",
    "def add_pot_on_basis(Hphi,V,phi):\n",
    "    for i in range(V.size):\n",
    "        Hphi[i] = Hphi[i] + V[i]*phi[i]"
   ]
  },
  {
   "cell_type": "code",
   "execution_count": 2,
   "metadata": {
    "collapsed": false
   },
   "outputs": [],
   "source": [
    "# Define the potential in the square well\n",
    "def square_well_potential(x,V,a):\n",
    "    \"\"\"Potential for a particle in a square well, expecting two arrays: x, V(x), and potential height, a\"\"\"\n",
    "    for i in range(x.size):\n",
    "        V[i] = 0.5*a*x[i]*x[i]\n",
    "    # If necessary, plot to ensure that we know what we're getting\n",
    "    #pl.plot(x,V)\n",
    "    \n"
   ]
  },
  {
   "cell_type": "markdown",
   "metadata": {},
   "source": [
    "Now let's define the trial function to use, which will be a gaussian:\n",
    "$$f(x) = A exp(-0.5\\alpha^2 x^2)$$\n",
    "\n",
    "We'll also need its second derivative for the energy, which we can find analytically in this case:\n",
    "$$df/dx = -x\\alpha^2 A exp(-0.5\\alpha x^2)$$\n",
    "$$d2f/dx2 = -\\alpha^2 A exp(-0.5\\alpha x^2) + \\alpha^4 x^2 A exp(-0.5\\alpha x^2) = \\alpha^2 A (\\alpha^2 x^2 -1) exp(-0.5\\alpha x^2)$$"
   ]
  },
  {
   "cell_type": "code",
   "execution_count": 3,
   "metadata": {
    "collapsed": false
   },
   "outputs": [
    {
     "name": "stdout",
     "output_type": "stream",
     "text": [
      "From theory, E min, alpha:  1.0 1.41421356237\n",
      "Norm is:  1.0\n"
     ]
    },
    {
     "data": {
      "text/plain": [
       "[<matplotlib.lines.Line2D at 0x1086ded50>]"
      ]
     },
     "execution_count": 3,
     "metadata": {},
     "output_type": "execute_result"
    },
    {
     "data": {
      "image/png": "[encoded data removed]",
      "text/plain": [
       "<matplotlib.figure.Figure at 0x1085d0c50>"
      ]
     },
     "metadata": {},
     "output_type": "display_data"
    }
   ],
   "source": [
    "from math import pi\n",
    "root_pi = np.sqrt(pi)\n",
    "# Define a gaussian with proper normalisation as our test function\n",
    "def gauss(x,alpha):\n",
    "    return np.sqrt(alpha / (root_pi))* np.exp(-0.5 * alpha**2 * x**2)\n",
    "# We can also write the second derivative function easily enough\n",
    "def d2gauss(x,alpha):\n",
    "    return np.sqrt(alpha / (root_pi))* alpha*alpha * (alpha*alpha*x*x - 1) * np.exp(-0.5 * alpha**2 * x**2)\n",
    "\n",
    "# Declare space for the potential and call the routine\n",
    "omega = 2.0 # Set the frequency\n",
    "VQHO = np.linspace(0.0,width,num_x_points)\n",
    "square_well_potential(x,VQHO,omega*omega)\n",
    "print \"From theory, E min, alpha: \",0.5*omega,np.sqrt(omega)\n",
    "psi = gauss(x,np.sqrt(omega))\n",
    "# Check that I've normalised the gaussian correctly\n",
    "print \"Norm is: \",integrate_functions(psi,psi,num_x_points,dx)\n",
    "pl.plot(x,psi)"
   ]
  },
  {
   "cell_type": "markdown",
   "metadata": {},
   "source": [
    "Now that we have the trial function, with the parameter $\\alpha$ as our variational parameter, we can vary the energy and look for the minimum.  We'll do this in a **very** crude way, just scanning values of $\\alpha$.  There are much better approaches, though, which we will address in a later notebook."
   ]
  },
  {
   "cell_type": "code",
   "execution_count": 4,
   "metadata": {
    "collapsed": false
   },
   "outputs": [
    {
     "name": "stdout",
     "output_type": "stream",
     "text": [
      "Energy at optimum alpha is:  1.0\n",
      "Min E and alph:  1.0000178072 1.41\n"
     ]
    },
    {
     "data": {
      "text/plain": [
       "<matplotlib.text.Text at 0x10868d210>"
      ]
     },
     "execution_count": 4,
     "metadata": {},
     "output_type": "execute_result"
    },
    {
     "data": {
      "image/png": "[encoded data removed]",
      "text/plain": [
       "<matplotlib.figure.Figure at 0x104f9df50>"
      ]
     },
     "metadata": {},
     "output_type": "display_data"
    }
   ],
   "source": [
    "psi = gauss(x,np.sqrt(omega))\n",
    "# Kinetic energy\n",
    "Hpsi = -0.5*d2gauss(x,np.sqrt(omega))\n",
    "# Add potential\n",
    "add_pot_on_basis(Hpsi,VQHO,psi)\n",
    "# Check the exact answer - we won't be able to do this normally !\n",
    "print \"Energy at optimum alpha is: \",integrate_functions(psi,Hpsi,num_x_points,dx)\n",
    "\n",
    "alpha_vals = np.linspace(0.1,10.1,1001)\n",
    "energy = np.zeros(1001)\n",
    "i=0\n",
    "e_min = 1e30\n",
    "alph_min = 0.0\n",
    "for alpha in alpha_vals:\n",
    "    psi = gauss(x,alpha)\n",
    "    norm = integrate_functions(psi,psi,num_x_points,dx)\n",
    "    #if np.abs(norm-1.0)>1e-6:\n",
    "    #    print \"Norm error: \",alpha,norm\n",
    "    Hpsi = -0.5*d2gauss(x,alpha)\n",
    "    add_pot_on_basis(Hpsi,VQHO,psi)\n",
    "    energy[i] = integrate_functions(psi,Hpsi,num_x_points,dx)\n",
    "    if energy[i]<e_min:\n",
    "        e_min = energy[i]\n",
    "        alpha_min = alpha\n",
    "    i=i+1\n",
    "print \"Min E and alph: \",e_min, alpha_min\n",
    "pl.plot(alpha_vals,energy)\n",
    "pl.xlabel(r\"Value of $\\alpha$\")\n",
    "pl.ylabel(\"Energy\")"
   ]
  },
  {
   "cell_type": "markdown",
   "metadata": {},
   "source": [
    "We see that the scanning of $\\alpha$ gives us a reasonably accurate answer: the exact answer is $\\sqrt{2}$, and we could find that with a more sophisticated search routine.  The method works, certainly for this simple problem."
   ]
  },
  {
   "cell_type": "markdown",
   "metadata": {
    "collapsed": true
   },
   "source": [
    "### Mixing states\n",
    "\n",
    "The classic examples for the variational approach generally are similar to the example above: we specify a functional form for the trial wavefunction and vary the parameter (or parameters) to find the minimum energy.  But we can also treat the expansion coefficients of a set of basis functions as the variational parameters.  So we might write:\n",
    "\n",
    "$$\n",
    "\\vert \\psi\\rangle = c_1 \\vert \\phi_1 \\rangle + c_2 \\vert \\phi_2\\rangle\n",
    "$$\n",
    "\n",
    "where we are mixing the first two basis states for a system together.  This is what is often done in practical quantum mechanical calculations (though we tend to use several tens, hundreds or thousands of basis coefficients, which requires a more sophisticated approach to minimisation).\n",
    "\n",
    "Notice that we can actually simplify the problem above: we will insist that $\\langle \\psi\\vert \\psi\\rangle = 1$, so we can write $c_1^2 + c_2^2 = 1$.  If we set $c_1 = 1$ and treat $c_2$ as the only parameter, then we can write:\n",
    "\n",
    "$$\n",
    "E = \\frac{\\langle \\psi\\vert \\hat{H} \\vert \\psi\\rangle}{\\langle \\psi\\vert \\psi \\rangle}\n",
    "$$\n",
    "\n",
    "and then solve $\\partial E/\\partial c_2 = 0$."
   ]
  },
  {
   "cell_type": "markdown",
   "metadata": {},
   "source": [
    "#### Practical example\n",
    "\n",
    "We will apply an electric field to a perfect square well (so that the potential is just proportional to $x$) and see how well mixing the first two states works as an approximation to the ground state of the new system.  We looked at this in the notebook \"An odd perturbation\"; you should be well used to the square well by now, so I won't explain what we're doing below in great detail."
   ]
  },
  {
   "cell_type": "code",
   "execution_count": 5,
   "metadata": {
    "collapsed": false
   },
   "outputs": [
    {
     "data": {
      "image/png": "[encoded data removed]",
      "text/plain": [
       "<matplotlib.figure.Figure at 0x1089f6d90>"
      ]
     },
     "metadata": {},
     "output_type": "display_data"
    }
   ],
   "source": [
    "# Define the eigenbasis - normalisation needed elsewhere\n",
    "def eigenbasis_sw(n,width,norm,x):\n",
    "    \"\"\"The eigenbasis for a square well, running from 0 to a, sin(n pi x/a)\"\"\"\n",
    "    fac = np.pi*n/width\n",
    "    return norm*np.sin(fac*x)\n",
    "\n",
    "# We will also define the second derivative for kinetic energy (KE)\n",
    "def d2eigenbasis_sw(n,width,norm,x):\n",
    "    \"\"\"The eigenbasis for a square well, running from 0 to a, sin(n pi x/a)\"\"\"\n",
    "    fac = np.pi*n/width\n",
    "    return -fac*fac*norm*np.sin(fac*x)\n",
    "\n",
    "# Define the x-axis\n",
    "width = 1.0\n",
    "num_x_points = 101\n",
    "x = np.linspace(0.0,width,num_x_points)\n",
    "dx = width/(num_x_points - 1)\n",
    "# Now set up the array of basis functions - specify the size of the basis\n",
    "num_basis = 10\n",
    "# These arrays will each hold an array of functions\n",
    "basis_array = np.zeros((num_basis,num_x_points))\n",
    "d2basis_array = np.zeros((num_basis,num_x_points))\n",
    "\n",
    "# Loop over first num_basis basis states, normalise and create an array\n",
    "# NB the basis_array will start from 0\n",
    "for i in range(num_basis):\n",
    "    n = i+1\n",
    "    # Calculate A = <phi_n|phi_n>\n",
    "    integral = integrate_functions(eigenbasis_sw(n,width,1.0,x),eigenbasis_sw(n,width,1.0,x),num_x_points,dx)\n",
    "    # Use 1/sqrt{A} as normalisation constant\n",
    "    normalisation = 1.0/np.sqrt(integral)\n",
    "    basis_array[i,:] = eigenbasis_sw(n,width,normalisation,x)\n",
    "    d2basis_array[i,:] = d2eigenbasis_sw(n,width,normalisation,x)\n",
    "\n",
    "# Define the potential in the square well\n",
    "def square_well_linear_potential(x,V,a):\n",
    "    \"\"\"Potential for a particle in a square well, expecting two arrays: x, V(x), and potential height, a\"\"\"\n",
    "    for i in range(x.size):\n",
    "        V[i] = a*(x[i]-width/2.0)\n",
    "    # Plot to ensure that we know what we're getting\n",
    "    pl.plot(x,V)\n",
    "    \n",
    "# Declare space for this potential (Vdiag) and call the routine\n",
    "Vdiag = np.linspace(0.0,width,num_x_points)\n",
    "square_well_linear_potential(x,Vdiag,1.0)"
   ]
  },
  {
   "cell_type": "markdown",
   "metadata": {},
   "source": [
    "Now build the Hamiltonian - we could actually evaluate the expectation value by using vector-matrix-vector algebra, though we will use integration below for now."
   ]
  },
  {
   "cell_type": "code",
   "execution_count": 6,
   "metadata": {
    "collapsed": false
   },
   "outputs": [
    {
     "name": "stdout",
     "output_type": "stream",
     "text": [
      "Full Hamiltonian\n",
      "   4.935   -0.180   -0.000   -0.014    0.000   -0.004    0.000   -0.002    0.000   -0.001\n",
      "  -0.180   19.739   -0.195   -0.000   -0.018    0.000   -0.006   -0.000   -0.002    0.000\n",
      "   0.000   -0.195   44.413   -0.199    0.000   -0.020   -0.000   -0.006    0.000   -0.003\n",
      "  -0.014   -0.000   -0.199   78.957   -0.200   -0.000   -0.021   -0.000   -0.007   -0.000\n",
      "  -0.000   -0.018   -0.000   -0.200  123.370   -0.201    0.000   -0.021   -0.000   -0.007\n",
      "  -0.004    0.000   -0.020   -0.000   -0.201  177.653   -0.201   -0.000   -0.022    0.000\n",
      "  -0.000   -0.006   -0.000   -0.021    0.000   -0.201  241.805   -0.202    0.000   -0.022\n",
      "  -0.002    0.000   -0.006   -0.000   -0.021   -0.000   -0.202  315.827   -0.202    0.000\n",
      "   0.000   -0.002    0.000   -0.007   -0.000   -0.022    0.000   -0.202  399.719   -0.202\n",
      "  -0.001    0.000   -0.003   -0.000   -0.007    0.000   -0.022    0.000   -0.202  493.480\n"
     ]
    }
   ],
   "source": [
    "# Declare space for the matrix elements\n",
    "Hmat2 = np.eye(num_basis)\n",
    "\n",
    "# Loop over basis functions phi_n (the bra in the matrix element)\n",
    "print \"Full Hamiltonian\"\n",
    "for n in range(num_basis):\n",
    "    # Loop over basis functions phi_m (the ket in the matrix element)\n",
    "    for m in range(num_basis):\n",
    "        # Act with H on phi_m and store in H_phi_m\n",
    "        H_phi_m = -0.5*d2basis_array[m] \n",
    "        add_pot_on_basis(H_phi_m,Vdiag,basis_array[m])\n",
    "        # Create matrix element by integrating\n",
    "        Hmat2[m,n] = integrate_functions(basis_array[n],H_phi_m,num_x_points,dx)\n",
    "        # The comma at the end prints without a new line; the %8.3f formats the number\n",
    "        print \"%8.3f\" % Hmat2[m,n],\n",
    "    # This print puts in a new line when we have finished looping over m\n",
    "    print\n",
    "  "
   ]
  },
  {
   "cell_type": "markdown",
   "metadata": {},
   "source": [
    "Finally, we set up the crude parameter scan.  I have chosen a range for $\\alpha$ which is helpful, though this approach sometimes requires a degree of trial and error."
   ]
  },
  {
   "cell_type": "code",
   "execution_count": 7,
   "metadata": {
    "collapsed": false
   },
   "outputs": [
    {
     "name": "stdout",
     "output_type": "stream",
     "text": [
      "Min E and alph:  4.93261131357 0.012\n"
     ]
    },
    {
     "data": {
      "text/plain": [
       "<matplotlib.text.Text at 0x108a0b190>"
      ]
     },
     "execution_count": 7,
     "metadata": {},
     "output_type": "execute_result"
    },
    {
     "data": {
      "image/png": "[encoded data removed]",
      "text/plain": [
       "<matplotlib.figure.Figure at 0x1086e8250>"
      ]
     },
     "metadata": {},
     "output_type": "display_data"
    }
   ],
   "source": [
    "n_alpha = 101\n",
    "alpha_vals = np.linspace(-0.1,0.1,n_alpha)\n",
    "energy2 = np.zeros(n_alpha)\n",
    "i=0\n",
    "e_min = 1e30\n",
    "alph_min = 0.0\n",
    "for alpha in alpha_vals:\n",
    "    psi = basis_array[0] + alpha*basis_array[1]\n",
    "    H_psi = -0.5*(d2basis_array[0] + alpha*d2basis_array[1])\n",
    "    add_pot_on_basis(H_psi,Vdiag,psi)\n",
    "    norm = integrate_functions(psi,psi,num_x_points,dx)\n",
    "    #print alpha, norm\n",
    "    #print Hmat2[0,0] + Hmat2[1,0]*alpha + Hmat2[0,1]*alpha + Hmat2[1,1]*alpha*alpha\n",
    "    energy2[i] = integrate_functions(psi,H_psi,num_x_points,dx)/norm\n",
    "    if energy2[i]<e_min:\n",
    "        e_min = energy2[i]\n",
    "        alpha_min = alpha\n",
    "    i=i+1\n",
    "print \"Min E and alph: \",e_min, alpha_min\n",
    "pl.plot(alpha_vals,energy2)\n",
    "pl.xlabel(r\"Value of $\\alpha$\")\n",
    "pl.ylabel(\"Energy\")"
   ]
  },
  {
   "cell_type": "markdown",
   "metadata": {},
   "source": [
    "You can compare these results to the perturbation theory results in the odd perturbation notebook - they are almost identical.  Now what happens if we make the field stronger ? For perturbation theory, the simple first order corrections failed."
   ]
  },
  {
   "cell_type": "code",
   "execution_count": 8,
   "metadata": {
    "collapsed": false
   },
   "outputs": [
    {
     "name": "stdout",
     "output_type": "stream",
     "text": [
      "Full Hamiltonian\n",
      "   4.935   -3.603    0.000   -0.288    0.000   -0.079    0.000   -0.033    0.000   -0.017\n",
      "  -3.603   19.739   -3.891   -0.000   -0.368   -0.000   -0.112   -0.000   -0.049    0.000\n",
      "   0.000   -3.891   44.413   -3.970   -0.000   -0.400   -0.000   -0.129    0.000   -0.059\n",
      "  -0.288   -0.000   -3.970   78.957   -4.003   -0.000   -0.417   -0.000   -0.138   -0.000\n",
      "   0.000   -0.368   -0.000   -4.003  123.370   -4.019    0.000   -0.426   -0.000   -0.144\n",
      "  -0.079   -0.000   -0.400   -0.000   -4.019  177.653   -4.029   -0.000   -0.432    0.000\n",
      "   0.000   -0.112   -0.000   -0.417    0.000   -4.029  241.805   -4.035    0.000   -0.436\n",
      "  -0.033   -0.000   -0.129   -0.000   -0.426   -0.000   -4.035  315.827   -4.039    0.000\n",
      "   0.000   -0.049    0.000   -0.138   -0.000   -0.432    0.000   -4.039  399.719   -4.042\n",
      "  -0.017   -0.000   -0.059   -0.000   -0.144    0.000   -0.436    0.000   -4.042  493.480\n"
     ]
    },
    {
     "data": {
      "image/png": "[encoded data removed]",
      "text/plain": [
       "<matplotlib.figure.Figure at 0x10906d2d0>"
      ]
     },
     "metadata": {},
     "output_type": "display_data"
    }
   ],
   "source": [
    "Vdiag2 = np.linspace(0.0,width,num_x_points)\n",
    "square_well_linear_potential(x,Vdiag2,20.0) # A much larger potential\n",
    "# Declare space for the matrix elements\n",
    "Hmat3 = np.eye(num_basis)\n",
    "\n",
    "# Loop over basis functions phi_n (the bra in the matrix element)\n",
    "print \"Full Hamiltonian\"\n",
    "for n in range(num_basis):\n",
    "    # Loop over basis functions phi_m (the ket in the matrix element)\n",
    "    for m in range(num_basis):\n",
    "        # Act with H on phi_m and store in H_phi_m\n",
    "        H_phi_m = -0.5*d2basis_array[m] \n",
    "        add_pot_on_basis(H_phi_m,Vdiag2,basis_array[m])\n",
    "        # Create matrix element by integrating\n",
    "        Hmat3[m,n] = integrate_functions(basis_array[n],H_phi_m,num_x_points,dx)\n",
    "        # The comma at the end prints without a new line; the %8.3f formats the number\n",
    "        print \"%8.3f\" % Hmat3[m,n],\n",
    "    # This print puts in a new line when we have finished looping over m\n",
    "    print"
   ]
  },
  {
   "cell_type": "code",
   "execution_count": 9,
   "metadata": {
    "collapsed": false
   },
   "outputs": [
    {
     "name": "stdout",
     "output_type": "stream",
     "text": [
      "Ground state energy:  4.08338931328\n",
      "Ground state wavevector:  [  9.73020341e-01   2.29548881e-01   2.26424844e-02   4.99446267e-03\n",
      "   8.93004688e-04   5.21069181e-04   1.27824770e-04   1.14624515e-04\n",
      "   3.24084063e-05   3.62462861e-05]\n",
      "Min E and alph:  4.10605694331 0.24\n"
     ]
    },
    {
     "data": {
      "text/plain": [
       "<matplotlib.text.Text at 0x10926b790>"
      ]
     },
     "execution_count": 9,
     "metadata": {},
     "output_type": "execute_result"
    },
    {
     "data": {
      "image/png": "[encoded data removed]",
      "text/plain": [
       "<matplotlib.figure.Figure at 0x1088a5050>"
      ]
     },
     "metadata": {},
     "output_type": "display_data"
    }
   ],
   "source": [
    "# Use exact algebra to find the result for comparison\n",
    "import numpy.linalg as la\n",
    "evals, evecs = la.eigh(Hmat3)\n",
    "print \"Ground state energy: \",evals[0]\n",
    "print \"Ground state wavevector: \",evecs[:,0]\n",
    "\n",
    "# Now set up the simple parameter scan\n",
    "n_alpha = 101\n",
    "alpha_vals = np.linspace(-1,1,n_alpha)\n",
    "energy3 = np.zeros(n_alpha)\n",
    "i=0\n",
    "e_min = 1e30\n",
    "alph_min = 0.0\n",
    "for alpha in alpha_vals:\n",
    "    psi = basis_array[0] + alpha*basis_array[1]\n",
    "    H_psi = -0.5*(d2basis_array[0] + alpha*d2basis_array[1])\n",
    "    add_pot_on_basis(H_psi,Vdiag2,psi)\n",
    "    norm = integrate_functions(psi,psi,num_x_points,dx)\n",
    "    #print alpha, norm\n",
    "    #print Hmat2[0,0] + Hmat2[1,0]*alpha + Hmat2[0,1]*alpha + Hmat2[1,1]*alpha*alpha\n",
    "    energy3[i] = integrate_functions(psi,H_psi,num_x_points,dx)/norm\n",
    "    if energy3[i]<e_min:\n",
    "        e_min = energy3[i]\n",
    "        alpha_min = alpha\n",
    "    i=i+1\n",
    "print \"Min E and alph: \",e_min, alpha_min\n",
    "pl.plot(alpha_vals,energy3)\n",
    "pl.xlabel(r\"Value of $\\alpha$\")\n",
    "pl.ylabel(\"Energy\")"
   ]
  },
  {
   "cell_type": "markdown",
   "metadata": {},
   "source": [
    "We can see that this rather simple variational approach does a remarkably good job: we get within 1% of the ground state energy.  Looking at the coefficients of the exact solution, we can see that we'd really need to include further states to fully map out the effects of this rather strong field.  There are various approaches to multi-parameter minimisation which I will describe in a separate notebook."
   ]
  },
  {
   "cell_type": "code",
   "execution_count": null,
   "metadata": {
    "collapsed": true
   },
   "outputs": [],
   "source": []
  }
 ],
 "metadata": {
  "kernelspec": {
   "display_name": "Python 2",
   "language": "python",
   "name": "python2"
  },
  "language_info": {
   "codemirror_mode": {
    "name": "ipython",
    "version": 2
   },
   "file_extension": ".py",
   "mimetype": "text/x-python",
   "name": "python",
   "nbconvert_exporter": "python",
   "pygments_lexer": "ipython2",
   "version": "2.7.10"
  }
 },
 "nbformat": 4,
 "nbformat_minor": 0
}
